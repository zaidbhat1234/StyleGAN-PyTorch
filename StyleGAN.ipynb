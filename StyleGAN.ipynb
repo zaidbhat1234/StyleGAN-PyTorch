{
  "nbformat": 4,
  "nbformat_minor": 0,
  "metadata": {
    "colab": {
      "name": "StyleGAN.ipynb",
      "provenance": [],
      "authorship_tag": "ABX9TyPr9L6hFv5VF2sOJ3o+wT0C",
      "include_colab_link": true
    },
    "kernelspec": {
      "name": "python3",
      "display_name": "Python 3"
    },
    "accelerator": "GPU"
  },
  "cells": [
    {
      "cell_type": "markdown",
      "metadata": {
        "id": "view-in-github",
        "colab_type": "text"
      },
      "source": [
        "<a href=\"https://colab.research.google.com/github/zaidbhat1234/StyleGAN-PyTorch/blob/main/StyleGAN.ipynb\" target=\"_parent\"><img src=\"https://colab.research.google.com/assets/colab-badge.svg\" alt=\"Open In Colab\"/></a>"
      ]
    },
    {
      "cell_type": "markdown",
      "metadata": {
        "id": "jsGAQMggFQBT"
      },
      "source": [
        "#Code to setup the official StyleGan implementation and run the examples"
      ]
    },
    {
      "cell_type": "markdown",
      "metadata": {
        "id": "i2RTbQivE-Qq"
      },
      "source": [
        "##Mounting your google drive containing the code files.\n"
      ]
    },
    {
      "cell_type": "code",
      "metadata": {
        "id": "rGltoZMTKLYx"
      },
      "source": [
        "from google.colab import drive\n",
        "drive.mount('/content/gdrive')\n",
        "%cd /content/gdrive/My\\ Drive/\n"
      ],
      "execution_count": null,
      "outputs": []
    },
    {
      "cell_type": "markdown",
      "metadata": {
        "id": "vM49QJERFC6Q"
      },
      "source": [
        "##The code should be arranged in this order of directories"
      ]
    },
    {
      "cell_type": "code",
      "metadata": {
        "id": "FKwQekobKzqT"
      },
      "source": [
        "%cd KAUST_Internship/stylegan\n"
      ],
      "execution_count": null,
      "outputs": []
    },
    {
      "cell_type": "markdown",
      "metadata": {
        "id": "UQ6ybb6DFFFL"
      },
      "source": [
        "##Resolving dependencies and importing libraries"
      ]
    },
    {
      "cell_type": "code",
      "metadata": {
        "id": "QRQOpEq6W8rc"
      },
      "source": [
        "!pip install tensorflow-gpu==1.15.2\n",
        "\n",
        "import torch\n",
        "import dnnlib\n",
        "import dnnlib.tflib as tflib\n",
        "import config\n",
        "import os\n",
        "import pickle\n",
        "import numpy as np\n",
        "import PIL.Image\n",
        "from PIL import Image\n",
        "from torchvision import transforms"
      ],
      "execution_count": null,
      "outputs": []
    },
    {
      "cell_type": "code",
      "metadata": {
        "id": "xM6FA5D6LJ1Z"
      },
      "source": [
        "!python pretrained_example.py"
      ],
      "execution_count": null,
      "outputs": []
    },
    {
      "cell_type": "code",
      "metadata": {
        "id": "0hAcjOJwLL4E"
      },
      "source": [
        "!python generate_figures.py"
      ],
      "execution_count": null,
      "outputs": []
    },
    {
      "cell_type": "code",
      "metadata": {
        "id": "cbBjWwYYwIiU",
        "colab": {
          "base_uri": "https://localhost:8080/",
          "height": 35
        },
        "outputId": "9f41a13e-3c2b-429f-dd90-955e08ab00e1"
      },
      "source": [
        "device = 'cuda:0' if torch.cuda.is_available() else 'cpu'\n",
        "device"
      ],
      "execution_count": null,
      "outputs": [
        {
          "output_type": "execute_result",
          "data": {
            "application/vnd.google.colaboratory.intrinsic+json": {
              "type": "string"
            },
            "text/plain": [
              "'cuda:0'"
            ]
          },
          "metadata": {
            "tags": []
          },
          "execution_count": 11
        }
      ]
    },
    {
      "cell_type": "code",
      "metadata": {
        "id": "VFtoxRJgnM4c"
      },
      "source": [
        "tflib.init_tf()\n",
        "\n",
        "# Load pre-trained network.\n",
        "url = 'https://drive.google.com/uc?id=1MEGjdvVpUsu1jB4zrXZN7Y4kBBOzizDQ'\n",
        "with dnnlib.util.open_url(url, cache_dir=config.cache_dir) as f:\n",
        "    _G, _D, Gs = pickle.load(f)\n",
        "    # _G = Instantaneous snapshot of the generator. Mainly useful for resuming a previous training run.\n",
        "    # _D = Instantaneous snapshot of the discriminator. Mainly useful for resuming a previous training run.\n",
        "    # Gs = Long-term average of the generator. Yields higher-quality results than the instantaneous snapshot.\n",
        "\n",
        "# Pick latent vector.\n",
        "rnd = np.random.RandomState(7) \n",
        "latents = 15 + torch.randn(1,Gs.input_shape[1]) *20\n",
        "\n",
        "\n",
        "# Generate image.\n",
        "fmt = dict(func=tflib.convert_images_to_uint8, nchw_to_nhwc=True)\n",
        "images = Gs.run(latents, None, truncation_psi=0.7, randomize_noise=True, output_transform=fmt)\n",
        "\n",
        "# Save image.\n",
        "os.makedirs(config.result_dir, exist_ok=True)\n",
        "png_filename = os.path.join(config.result_dir, 'example3.png')\n",
        "PIL.Image.fromarray(images[0], 'RGB').save(png_filename)\n"
      ],
      "execution_count": null,
      "outputs": []
    },
    {
      "cell_type": "code",
      "metadata": {
        "id": "W5btx0IiokNC"
      },
      "source": [
        "!nvidia-smi"
      ],
      "execution_count": null,
      "outputs": []
    }
  ]
}